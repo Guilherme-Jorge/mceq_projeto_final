{
 "cells": [
  {
   "cell_type": "markdown",
   "metadata": {},
   "source": [
    "Depends on:\n",
    " - tensorflow: pip install tensorflow\n",
    " - keras: pip install keras\n",
    " - opencv: pip install opencv-python\n",
    " - scikit-image: pip install scikit-image\n",
    " \n",
    "Windows users may need to use \"py -m pip install\" or \"python -m pip install\" instead of \"pip install\"."
   ]
  },
  {
   "cell_type": "code",
   "execution_count": 5,
   "metadata": {},
   "outputs": [],
   "source": [
    "import cv2\n",
    "import os\n",
    "from functions.classifying import classify, open_img, ssim, classify_to_data\n",
    "from functions.distortions import jpeg, resize, canny, gaussian_noise, blur, grayscale, negative, zoom"
   ]
  },
  {
   "cell_type": "code",
   "execution_count": 6,
   "metadata": {},
   "outputs": [
    {
     "data": {
      "text/html": [
       "<div>\n",
       "<style scoped>\n",
       "    .dataframe tbody tr th:only-of-type {\n",
       "        vertical-align: middle;\n",
       "    }\n",
       "\n",
       "    .dataframe tbody tr th {\n",
       "        vertical-align: top;\n",
       "    }\n",
       "\n",
       "    .dataframe thead th {\n",
       "        text-align: right;\n",
       "    }\n",
       "</style>\n",
       "<table border=\"1\" class=\"dataframe\">\n",
       "  <thead>\n",
       "    <tr style=\"text-align: right;\">\n",
       "      <th></th>\n",
       "      <th>FILE_PATH</th>\n",
       "      <th>ORIG_CLASSES</th>\n",
       "      <th>GAUSS_SSIM</th>\n",
       "      <th>GAUSS_CLASSES</th>\n",
       "      <th>BLUR_SSIM</th>\n",
       "      <th>BLUR_CLASSES</th>\n",
       "      <th>GRAYSCALE_SSIM</th>\n",
       "      <th>GRAYSCALE_CLASSES</th>\n",
       "      <th>NEGATIVE_SSIM</th>\n",
       "      <th>NEGATIVE_CLASSES</th>\n",
       "      <th>ZOOM_SSIM</th>\n",
       "      <th>ZOOM_CLASSES</th>\n",
       "    </tr>\n",
       "  </thead>\n",
       "  <tbody>\n",
       "    <tr>\n",
       "      <th>0</th>\n",
       "      <td>PATH</td>\n",
       "      <td>CLASSES</td>\n",
       "      <td>SSIM</td>\n",
       "      <td>CLASSES</td>\n",
       "      <td>SSIM</td>\n",
       "      <td>CLASSES</td>\n",
       "      <td>SSIM</td>\n",
       "      <td>CLASSES</td>\n",
       "      <td>SSIM</td>\n",
       "      <td>CLASSES</td>\n",
       "      <td>SSIM</td>\n",
       "      <td>CLASSES</td>\n",
       "    </tr>\n",
       "  </tbody>\n",
       "</table>\n",
       "</div>"
      ],
      "text/plain": [
       "  FILE_PATH ORIG_CLASSES GAUSS_SSIM GAUSS_CLASSES BLUR_SSIM BLUR_CLASSES  \\\n",
       "0      PATH      CLASSES       SSIM       CLASSES      SSIM      CLASSES   \n",
       "\n",
       "  GRAYSCALE_SSIM GRAYSCALE_CLASSES NEGATIVE_SSIM NEGATIVE_CLASSES ZOOM_SSIM  \\\n",
       "0           SSIM           CLASSES          SSIM          CLASSES      SSIM   \n",
       "\n",
       "  ZOOM_CLASSES  \n",
       "0      CLASSES  "
      ]
     },
     "execution_count": 6,
     "metadata": {},
     "output_type": "execute_result"
    }
   ],
   "source": [
    "import pandas as pd\n",
    "\n",
    "HEADERS = [\n",
    "    \"FILE_PATH\",\n",
    "    \"ORIG_CLASSES\",\n",
    "    \"GAUSS_SSIM\",\n",
    "    \"GAUSS_CLASSES\",\n",
    "    \"BLUR_SSIM\",\n",
    "    \"BLUR_CLASSES\",\n",
    "    \"GRAYSCALE_SSIM\",\n",
    "    \"GRAYSCALE_CLASSES\",\n",
    "    \"NEGATIVE_SSIM\",\n",
    "    \"NEGATIVE_CLASSES\",\n",
    "    \"ZOOM_SSIM\",\n",
    "    \"ZOOM_CLASSES\"\n",
    "]\n",
    "\n",
    "df = pd.DataFrame(columns=HEADERS)\n",
    "df.loc[-1] = [\"PATH\", \"CLASSES\", \"SSIM\", \"CLASSES\", \"SSIM\", \"CLASSES\", \"SSIM\", \"CLASSES\", \"SSIM\", \"CLASSES\", \"SSIM\", \"CLASSES\"]\n",
    "df.index = df.index + 1\n",
    "df = df.sort_index()\n",
    "df"
   ]
  },
  {
   "cell_type": "code",
   "execution_count": 7,
   "metadata": {},
   "outputs": [],
   "source": [
    "PATH_TO_DIR = \"imagenette2/val/n01440764/\"\n",
    "PATH_TO_SAVE = \"distorted-images/val/n01440764/\""
   ]
  },
  {
   "cell_type": "code",
   "execution_count": 8,
   "metadata": {},
   "outputs": [],
   "source": [
    "try:\n",
    "    os.mkdir(\"distorted-images\")\n",
    "except FileExistsError:\n",
    "    pass\n",
    "\n",
    "try:\n",
    "    os.mkdir(\"distorted-images/val/\")\n",
    "except FileExistsError:\n",
    "    pass\n",
    "\n",
    "try:\n",
    "    os.mkdir(PATH_TO_SAVE)\n",
    "except FileExistsError:\n",
    "    pass"
   ]
  },
  {
   "cell_type": "code",
   "execution_count": 9,
   "metadata": {},
   "outputs": [
    {
     "name": "stdout",
     "output_type": "stream",
     "text": [
      "Files and directories in ' imagenette2/val/n01440764/ ' :\n",
      "['ILSVRC2012_val_00009111.JPEG', 'ILSVRC2012_val_00009191.JPEG', 'ILSVRC2012_val_00017472.JPEG', 'ILSVRC2012_val_00017700.JPEG', 'ILSVRC2012_val_00021740.JPEG', 'ILSVRC2012_val_00029930.JPEG', 'ILSVRC2012_val_00030740.JPEG', 'ILSVRC2012_val_00037861.JPEG', 'ILSVRC2012_val_00045880.JPEG', 'ILSVRC2012_val_00046252.JPEG', 'n01440764_10040.JPEG', 'n01440764_10042.JPEG', 'n01440764_10110.JPEG', 'n01440764_10120.JPEG', 'n01440764_10150.JPEG', 'n01440764_10162.JPEG', 'n01440764_10211.JPEG', 'n01440764_10251.JPEG', 'n01440764_10281.JPEG', 'n01440764_10290.JPEG', 'n01440764_10320.JPEG', 'n01440764_10331.JPEG', 'n01440764_10342.JPEG', 'n01440764_10361.JPEG', 'n01440764_10380.JPEG', 'n01440764_10382.JPEG', 'n01440764_10410.JPEG', 'n01440764_10462.JPEG', 'n01440764_10470.JPEG', 'n01440764_10482.JPEG', 'n01440764_10491.JPEG', 'n01440764_10531.JPEG', 'n01440764_10542.JPEG', 'n01440764_10550.JPEG', 'n01440764_10592.JPEG', 'n01440764_10740.JPEG', 'n01440764_10792.JPEG', 'n01440764_10812.JPEG', 'n01440764_10822.JPEG', 'n01440764_10852.JPEG', 'n01440764_1091.JPEG', 'n01440764_10910.JPEG', 'n01440764_11011.JPEG', 'n01440764_11151.JPEG', 'n01440764_11170.JPEG', 'n01440764_11190.JPEG', 'n01440764_11211.JPEG', 'n01440764_11281.JPEG', 'n01440764_11331.JPEG', 'n01440764_11350.JPEG', 'n01440764_11400.JPEG', 'n01440764_1141.JPEG', 'n01440764_11420.JPEG', 'n01440764_11570.JPEG', 'n01440764_11590.JPEG', 'n01440764_11602.JPEG', 'n01440764_11612.JPEG', 'n01440764_11650.JPEG', 'n01440764_11652.JPEG', 'n01440764_11750.JPEG', 'n01440764_11762.JPEG', 'n01440764_11830.JPEG', 'n01440764_11841.JPEG', 'n01440764_11881.JPEG', 'n01440764_11930.JPEG', 'n01440764_11972.JPEG', 'n01440764_12021.JPEG', 'n01440764_12040.JPEG', 'n01440764_12090.JPEG', 'n01440764_12100.JPEG', 'n01440764_12111.JPEG', 'n01440764_12131.JPEG', 'n01440764_12151.JPEG', 'n01440764_12182.JPEG', 'n01440764_12211.JPEG', 'n01440764_12241.JPEG', 'n01440764_12250.JPEG', 'n01440764_12291.JPEG', 'n01440764_1232.JPEG', 'n01440764_12362.JPEG', 'n01440764_12502.JPEG', 'n01440764_12571.JPEG', 'n01440764_12572.JPEG', 'n01440764_12620.JPEG', 'n01440764_12632.JPEG', 'n01440764_12702.JPEG', 'n01440764_1272.JPEG', 'n01440764_12732.JPEG', 'n01440764_12881.JPEG', 'n01440764_12950.JPEG', 'n01440764_12971.JPEG', 'n01440764_12972.JPEG', 'n01440764_1302.JPEG', 'n01440764_13051.JPEG', 'n01440764_1310.JPEG', 'n01440764_13122.JPEG', 'n01440764_13161.JPEG', 'n01440764_13251.JPEG', 'n01440764_13360.JPEG', 'n01440764_13452.JPEG', 'n01440764_13581.JPEG', 'n01440764_13602.JPEG', 'n01440764_13702.JPEG', 'n01440764_13751.JPEG', 'n01440764_13770.JPEG', 'n01440764_13801.JPEG', 'n01440764_13821.JPEG', 'n01440764_13842.JPEG', 'n01440764_13860.JPEG', 'n01440764_141.JPEG', 'n01440764_14150.JPEG', 'n01440764_14162.JPEG', 'n01440764_14172.JPEG', 'n01440764_14190.JPEG', 'n01440764_14232.JPEG', 'n01440764_14280.JPEG', 'n01440764_14310.JPEG', 'n01440764_14341.JPEG', 'n01440764_14342.JPEG', 'n01440764_14402.JPEG', 'n01440764_14411.JPEG', 'n01440764_14490.JPEG', 'n01440764_14530.JPEG', 'n01440764_14650.JPEG', 'n01440764_14731.JPEG', 'n01440764_14771.JPEG', 'n01440764_14790.JPEG', 'n01440764_14802.JPEG', 'n01440764_14891.JPEG', 'n01440764_15071.JPEG', 'n01440764_15081.JPEG', 'n01440764_1552.JPEG', 'n01440764_15560.JPEG', 'n01440764_1561.JPEG', 'n01440764_16051.JPEG', 'n01440764_16072.JPEG', 'n01440764_16090.JPEG', 'n01440764_16192.JPEG', 'n01440764_16220.JPEG', 'n01440764_16982.JPEG', 'n01440764_17050.JPEG', 'n01440764_172.JPEG', 'n01440764_17501.JPEG', 'n01440764_1770.JPEG', 'n01440764_17782.JPEG', 'n01440764_17921.JPEG', 'n01440764_18220.JPEG', 'n01440764_18592.JPEG', 'n01440764_190.JPEG', 'n01440764_192.JPEG', 'n01440764_19302.JPEG', 'n01440764_1951.JPEG', 'n01440764_19661.JPEG', 'n01440764_1980.JPEG', 'n01440764_200.JPEG', 'n01440764_2001.JPEG', 'n01440764_2002.JPEG', 'n01440764_20451.JPEG', 'n01440764_20592.JPEG', 'n01440764_20650.JPEG', 'n01440764_20922.JPEG', 'n01440764_2102.JPEG', 'n01440764_21052.JPEG', 'n01440764_21161.JPEG', 'n01440764_21191.JPEG', 'n01440764_2121.JPEG', 'n01440764_2162.JPEG', 'n01440764_21790.JPEG', 'n01440764_2221.JPEG', 'n01440764_2271.JPEG', 'n01440764_2290.JPEG', 'n01440764_23111.JPEG', 'n01440764_24502.JPEG', 'n01440764_2490.JPEG', 'n01440764_25090.JPEG', 'n01440764_25361.JPEG', 'n01440764_25370.JPEG', 'n01440764_261.JPEG', 'n01440764_26320.JPEG', 'n01440764_26541.JPEG', 'n01440764_26631.JPEG', 'n01440764_26892.JPEG', 'n01440764_2690.JPEG', 'n01440764_27042.JPEG', 'n01440764_2742.JPEG', 'n01440764_27422.JPEG', 'n01440764_27451.JPEG', 'n01440764_2751.JPEG', 'n01440764_27530.JPEG', 'n01440764_27811.JPEG', 'n01440764_292.JPEG', 'n01440764_2920.JPEG', 'n01440764_2921.JPEG', 'n01440764_29551.JPEG', 'n01440764_29670.JPEG', 'n01440764_29681.JPEG', 'n01440764_29712.JPEG', 'n01440764_29731.JPEG', 'n01440764_3011.JPEG', 'n01440764_30331.JPEG', 'n01440764_3070.JPEG', 'n01440764_30782.JPEG', 'n01440764_31170.JPEG', 'n01440764_3151.JPEG', 'n01440764_3172.JPEG', 'n01440764_320.JPEG', 'n01440764_3202.JPEG', 'n01440764_32420.JPEG', 'n01440764_3251.JPEG', 'n01440764_3271.JPEG', 'n01440764_3281.JPEG', 'n01440764_341.JPEG', 'n01440764_3421.JPEG', 'n01440764_3432.JPEG', 'n01440764_3560.JPEG', 'n01440764_3712.JPEG', 'n01440764_3760.JPEG', 'n01440764_3761.JPEG', 'n01440764_3781.JPEG', 'n01440764_3782.JPEG', 'n01440764_421.JPEG', 'n01440764_4221.JPEG', 'n01440764_4260.JPEG', 'n01440764_4341.JPEG', 'n01440764_4360.JPEG', 'n01440764_4490.JPEG', 'n01440764_451.JPEG', 'n01440764_4510.JPEG', 'n01440764_4512.JPEG', 'n01440764_4540.JPEG', 'n01440764_4562.JPEG', 'n01440764_4611.JPEG', 'n01440764_4681.JPEG', 'n01440764_4852.JPEG', 'n01440764_490.JPEG', 'n01440764_4942.JPEG', 'n01440764_4962.JPEG', 'n01440764_4980.JPEG', 'n01440764_5081.JPEG', 'n01440764_5091.JPEG', 'n01440764_5112.JPEG', 'n01440764_522.JPEG', 'n01440764_5232.JPEG', 'n01440764_5361.JPEG', 'n01440764_5410.JPEG', 'n01440764_5432.JPEG', 'n01440764_5481.JPEG', 'n01440764_5490.JPEG', 'n01440764_5501.JPEG', 'n01440764_5642.JPEG', 'n01440764_5680.JPEG', 'n01440764_5690.JPEG', 'n01440764_5731.JPEG', 'n01440764_5781.JPEG', 'n01440764_5802.JPEG', 'n01440764_5861.JPEG', 'n01440764_5902.JPEG', 'n01440764_5911.JPEG', 'n01440764_5941.JPEG', 'n01440764_5990.JPEG', 'n01440764_600.JPEG', 'n01440764_6021.JPEG', 'n01440764_6052.JPEG', 'n01440764_6130.JPEG', 'n01440764_6190.JPEG', 'n01440764_622.JPEG', 'n01440764_6301.JPEG', 'n01440764_6341.JPEG', 'n01440764_6361.JPEG', 'n01440764_6380.JPEG', 'n01440764_6391.JPEG', 'n01440764_6410.JPEG', 'n01440764_6421.JPEG', 'n01440764_6432.JPEG', 'n01440764_6471.JPEG', 'n01440764_650.JPEG', 'n01440764_6500.JPEG', 'n01440764_6501.JPEG', 'n01440764_6550.JPEG', 'n01440764_6570.JPEG', 'n01440764_6572.JPEG', 'n01440764_6641.JPEG', 'n01440764_6642.JPEG', 'n01440764_6672.JPEG', 'n01440764_6751.JPEG', 'n01440764_6760.JPEG', 'n01440764_6812.JPEG', 'n01440764_6831.JPEG', 'n01440764_6852.JPEG', 'n01440764_6870.JPEG', 'n01440764_6962.JPEG', 'n01440764_6990.JPEG', 'n01440764_7030.JPEG', 'n01440764_7040.JPEG', 'n01440764_710.JPEG', 'n01440764_7131.JPEG', 'n01440764_7142.JPEG', 'n01440764_7160.JPEG', 'n01440764_7210.JPEG', 'n01440764_7230.JPEG', 'n01440764_7272.JPEG', 'n01440764_7302.JPEG', 'n01440764_7362.JPEG', 'n01440764_7411.JPEG', 'n01440764_7462.JPEG', 'n01440764_7492.JPEG', 'n01440764_7501.JPEG', 'n01440764_752.JPEG', 'n01440764_7521.JPEG', 'n01440764_7531.JPEG', 'n01440764_7562.JPEG', 'n01440764_7571.JPEG', 'n01440764_7591.JPEG', 'n01440764_7610.JPEG', 'n01440764_762.JPEG', 'n01440764_7632.JPEG', 'n01440764_7671.JPEG', 'n01440764_7701.JPEG', 'n01440764_7752.JPEG', 'n01440764_7772.JPEG', 'n01440764_7792.JPEG', 'n01440764_7820.JPEG', 'n01440764_7922.JPEG', 'n01440764_7950.JPEG', 'n01440764_7982.JPEG', 'n01440764_8012.JPEG', 'n01440764_8030.JPEG', 'n01440764_8052.JPEG', 'n01440764_8082.JPEG', 'n01440764_8112.JPEG', 'n01440764_8142.JPEG', 'n01440764_8150.JPEG', 'n01440764_8160.JPEG', 'n01440764_8191.JPEG', 'n01440764_8210.JPEG', 'n01440764_8221.JPEG', 'n01440764_8240.JPEG', 'n01440764_8250.JPEG', 'n01440764_8260.JPEG', 'n01440764_8302.JPEG', 'n01440764_8311.JPEG', 'n01440764_8312.JPEG', 'n01440764_8421.JPEG', 'n01440764_8442.JPEG', 'n01440764_8451.JPEG', 'n01440764_8521.JPEG', 'n01440764_8531.JPEG', 'n01440764_8572.JPEG', 'n01440764_8580.JPEG', 'n01440764_8600.JPEG', 'n01440764_8601.JPEG', 'n01440764_8610.JPEG', 'n01440764_8611.JPEG', 'n01440764_8622.JPEG', 'n01440764_8710.JPEG', 'n01440764_8771.JPEG', 'n01440764_8782.JPEG', 'n01440764_8801.JPEG', 'n01440764_8852.JPEG', 'n01440764_8910.JPEG', 'n01440764_8992.JPEG', 'n01440764_9020.JPEG', 'n01440764_9031.JPEG', 'n01440764_9091.JPEG', 'n01440764_910.JPEG', 'n01440764_9152.JPEG', 'n01440764_9191.JPEG', 'n01440764_921.JPEG', 'n01440764_9212.JPEG', 'n01440764_9292.JPEG', 'n01440764_9390.JPEG', 'n01440764_9442.JPEG', 'n01440764_9471.JPEG', 'n01440764_9491.JPEG', 'n01440764_9572.JPEG', 'n01440764_9621.JPEG', 'n01440764_9642.JPEG', 'n01440764_9720.JPEG', 'n01440764_9772.JPEG', 'n01440764_9780.JPEG', 'n01440764_9811.JPEG', 'n01440764_9861.JPEG', 'n01440764_9890.JPEG', 'n01440764_9931.JPEG', 'n01440764_9940.JPEG', 'n01440764_9962.JPEG', 'n01440764_9981.JPEG']\n"
     ]
    }
   ],
   "source": [
    "files = os.listdir(PATH_TO_DIR)\n",
    "print(\"Files and directories in '\", PATH_TO_DIR, \"' :\")\n",
    "# prints all files\n",
    "print(files)"
   ]
  },
  {
   "cell_type": "code",
   "execution_count": 10,
   "metadata": {},
   "outputs": [
    {
     "name": "stdout",
     "output_type": "stream",
     "text": [
      "Original image:\n",
      "\u001b[1m1/1\u001b[0m \u001b[32m━━━━━━━━━━━━━━━━━━━━\u001b[0m\u001b[37m\u001b[0m \u001b[1m1s\u001b[0m 816ms/step\n",
      "\ttench (n01440764): 99.65%\n",
      "\tcoho (n02536864): 0.15%\n",
      "\treel (n04067472): 0.07%\n",
      "\tbarracouta (n02514041): 0.07%\n",
      "\tslug (n01945685): 0.01%\n"
     ]
    }
   ],
   "source": [
    "file = files[0]\n",
    "\n",
    "orig_img = open_img(PATH_TO_DIR+file)\n",
    "save = PATH_TO_SAVE + file.removesuffix(\".JPEG\")\n",
    "\n",
    "print(\"Original image:\")\n",
    "classify(orig_img)"
   ]
  },
  {
   "cell_type": "code",
   "execution_count": 11,
   "metadata": {},
   "outputs": [
    {
     "name": "stdout",
     "output_type": "stream",
     "text": [
      "After JPEG q=70%:\n",
      "SSIM = 89.84\n",
      "\u001b[1m1/1\u001b[0m \u001b[32m━━━━━━━━━━━━━━━━━━━━\u001b[0m\u001b[37m\u001b[0m \u001b[1m0s\u001b[0m 38ms/step\n",
      "[['tench', 'n01440764', 99.72829818725586], ['barracouta', 'n02514041', 0.13069921405985951], ['coho', 'n02536864', 0.06711234454996884], ['reel', 'n04067472', 0.03362823626957834], ['slug', 'n01945685', 0.0116799958050251]]\n"
     ]
    }
   ],
   "source": [
    "print(\"After JPEG q=70%:\")\n",
    "after_jpeg = jpeg(orig_img, 70)\n",
    "cv2.imwrite(f\"{save}/{file}_dist_jpeg.JPEG\", after_jpeg)\n",
    "print(\"SSIM = %.2f\" % (ssim(orig_img, after_jpeg)))\n",
    "print(classify_to_data(after_jpeg))"
   ]
  },
  {
   "cell_type": "code",
   "execution_count": 41,
   "metadata": {},
   "outputs": [
    {
     "name": "stdout",
     "output_type": "stream",
     "text": [
      "After resizing to 64x64:\n",
      "SSIM = 48.20\n",
      "\u001b[1m1/1\u001b[0m \u001b[32m━━━━━━━━━━━━━━━━━━━━\u001b[0m\u001b[37m\u001b[0m \u001b[1m0s\u001b[0m 46ms/step\n",
      "\ttench (n01440764): 30.53%\n",
      "\tant (n02219486): 12.57%\n",
      "\tground_beetle (n02167151): 6.20%\n",
      "\tisopod (n01990800): 5.33%\n",
      "\tplastic_bag (n03958227): 3.84%\n"
     ]
    }
   ],
   "source": [
    "print(\"After resizing to 64x64:\")\n",
    "after_resize = resize(orig_img, 64, 64)\n",
    "cv2.imwrite(f\"{save}/{file}_dist_resize.JPEG\", after_resize)\n",
    "print(\"SSIM = %.2f\" % (ssim(orig_img, after_resize)))\n",
    "classify(after_resize)"
   ]
  },
  {
   "cell_type": "code",
   "execution_count": 42,
   "metadata": {},
   "outputs": [
    {
     "name": "stdout",
     "output_type": "stream",
     "text": [
      "After Canny edge detection:\n",
      "SSIM = 1.87\n",
      "\u001b[1m1/1\u001b[0m \u001b[32m━━━━━━━━━━━━━━━━━━━━\u001b[0m\u001b[37m\u001b[0m \u001b[1m0s\u001b[0m 47ms/step\n",
      "\tspider_web (n04275548): 97.67%\n",
      "\tsafety_pin (n04127249): 0.43%\n",
      "\tpadlock (n03874599): 0.26%\n",
      "\tsweatshirt (n04370456): 0.12%\n",
      "\tumbrella (n04507155): 0.12%\n"
     ]
    }
   ],
   "source": [
    "print(\"After Canny edge detection:\")\n",
    "after_canny = canny(orig_img)\n",
    "cv2.imwrite(f\"{save}/{file}_dist_canny.JPEG\", after_canny)\n",
    "print(\"SSIM = %.2f\" % (ssim(orig_img, after_canny)))\n",
    "classify(after_canny)"
   ]
  },
  {
   "cell_type": "code",
   "execution_count": 43,
   "metadata": {},
   "outputs": [
    {
     "name": "stdout",
     "output_type": "stream",
     "text": [
      "After Gaussian noise:\n",
      "SSIM = 32.69\n",
      "\u001b[1m1/1\u001b[0m \u001b[32m━━━━━━━━━━━━━━━━━━━━\u001b[0m\u001b[37m\u001b[0m \u001b[1m0s\u001b[0m 43ms/step\n",
      "\tblack_widow (n01774384): 9.58%\n",
      "\tshovel (n04208210): 6.63%\n",
      "\trifle (n04090263): 5.94%\n",
      "\tprojectile (n04008634): 5.57%\n",
      "\tassault_rifle (n02749479): 4.73%\n"
     ]
    }
   ],
   "source": [
    "print(\"After Gaussian noise:\")\n",
    "after_gauss = gaussian_noise(orig_img, mean=10, std=10)\n",
    "cv2.imwrite(f\"{save}/{file}_dist_gaussian.JPEG\", after_gauss)\n",
    "print(\"SSIM = %.2f\" % (ssim(orig_img, after_gauss)))\n",
    "classify(after_gauss)"
   ]
  },
  {
   "cell_type": "code",
   "execution_count": 44,
   "metadata": {},
   "outputs": [
    {
     "name": "stdout",
     "output_type": "stream",
     "text": [
      "After Blur:\n",
      "SSIM = 60.68\n",
      "\u001b[1m1/1\u001b[0m \u001b[32m━━━━━━━━━━━━━━━━━━━━\u001b[0m\u001b[37m\u001b[0m \u001b[1m0s\u001b[0m 52ms/step\n",
      "\ttench (n01440764): 78.07%\n",
      "\treel (n04067472): 6.42%\n",
      "\trotisserie (n04111531): 2.65%\n",
      "\tapiary (n02727426): 1.08%\n",
      "\tbarracouta (n02514041): 0.82%\n"
     ]
    }
   ],
   "source": [
    "print(\"After Blur:\")\n",
    "after_blur = blur(orig_img, ksize=(11, 11), sigmaX=0)\n",
    "cv2.imwrite(f\"{save}/{file}_dist_blur.JPEG\", after_blur)\n",
    "print(\"SSIM = %.2f\" % (ssim(orig_img, after_blur)))\n",
    "classify(after_blur)"
   ]
  },
  {
   "cell_type": "code",
   "execution_count": 45,
   "metadata": {},
   "outputs": [
    {
     "name": "stdout",
     "output_type": "stream",
     "text": [
      "After Grayscale:\n",
      "SSIM = 96.09\n",
      "\u001b[1m1/1\u001b[0m \u001b[32m━━━━━━━━━━━━━━━━━━━━\u001b[0m\u001b[37m\u001b[0m \u001b[1m0s\u001b[0m 40ms/step\n",
      "\tpaintbrush (n03876231): 64.81%\n",
      "\trifle (n04090263): 10.40%\n",
      "\thammer (n03481172): 9.78%\n",
      "\tassault_rifle (n02749479): 2.40%\n",
      "\treel (n04067472): 2.36%\n"
     ]
    }
   ],
   "source": [
    "print(\"After Grayscale:\")\n",
    "after_grayscale = grayscale(orig_img)\n",
    "cv2.imwrite(f\"{save}/{file}_dist_grayscale.JPEG\", after_grayscale)\n",
    "print(\"SSIM = %.2f\" % (ssim(orig_img, after_grayscale)))\n",
    "classify(after_grayscale)"
   ]
  },
  {
   "cell_type": "code",
   "execution_count": 46,
   "metadata": {},
   "outputs": [
    {
     "name": "stdout",
     "output_type": "stream",
     "text": [
      "After Negative colors:\n",
      "SSIM = -51.82\n",
      "\u001b[1m1/1\u001b[0m \u001b[32m━━━━━━━━━━━━━━━━━━━━\u001b[0m\u001b[37m\u001b[0m \u001b[1m0s\u001b[0m 45ms/step\n",
      "\tsyringe (n04376876): 51.58%\n",
      "\tpuffer (n02655020): 27.05%\n",
      "\tgar (n02641379): 4.80%\n",
      "\tcoho (n02536864): 4.27%\n",
      "\tquill (n04033901): 1.64%\n"
     ]
    }
   ],
   "source": [
    "print(\"After Negative colors:\")\n",
    "after_negative = negative(orig_img)\n",
    "cv2.imwrite(f\"{save}/{file}_dist_negative.JPEG\", after_negative)\n",
    "print(\"SSIM = %.2f\" % (ssim(orig_img, after_negative)))\n",
    "classify(after_negative)"
   ]
  },
  {
   "cell_type": "code",
   "execution_count": 47,
   "metadata": {},
   "outputs": [
    {
     "name": "stdout",
     "output_type": "stream",
     "text": [
      "After Zoom of 150%:\n",
      "SSIM = 10.54\n",
      "\u001b[1m1/1\u001b[0m \u001b[32m━━━━━━━━━━━━━━━━━━━━\u001b[0m\u001b[37m\u001b[0m \u001b[1m0s\u001b[0m 41ms/step\n",
      "\ttench (n01440764): 89.74%\n",
      "\treel (n04067472): 7.35%\n",
      "\tcoho (n02536864): 1.59%\n",
      "\tbarracouta (n02514041): 1.26%\n",
      "\tgar (n02641379): 0.02%\n"
     ]
    }
   ],
   "source": [
    "print(\"After Zoom of 150%:\")\n",
    "after_zoom = zoom(orig_img, 1.5, coord=None)\n",
    "cv2.imwrite(f\"{save}/{file}_dist_zoom.JPEG\", after_zoom)\n",
    "print(\"SSIM = %.2f\" % (ssim(orig_img, after_zoom)))\n",
    "classify(after_zoom)"
   ]
  }
 ],
 "metadata": {
  "kernelspec": {
   "display_name": ".venv",
   "language": "python",
   "name": "python3"
  },
  "language_info": {
   "codemirror_mode": {
    "name": "ipython",
    "version": 3
   },
   "file_extension": ".py",
   "mimetype": "text/x-python",
   "name": "python",
   "nbconvert_exporter": "python",
   "pygments_lexer": "ipython3",
   "version": "3.12.6"
  }
 },
 "nbformat": 4,
 "nbformat_minor": 2
}
